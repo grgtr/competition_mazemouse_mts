{
 "cells": [
  {
   "cell_type": "code",
   "execution_count": 3,
   "id": "29fb44b2-d4d1-4082-89e3-337044e33a1c",
   "metadata": {},
   "outputs": [],
   "source": [
    "import requests"
   ]
  },
  {
   "cell_type": "code",
   "execution_count": 4,
   "id": "9e6c4485-9567-487a-8a1a-f8e13ca25d19",
   "metadata": {},
   "outputs": [],
   "source": [
    "def forward(token=\"\", url=\"http://127.0.0.1:8801/api/v1\"):\n",
    "    r = requests.post(url + \"/robot-cells/forward\", params={\"token\": token})\n",
    "    return r"
   ]
  },
  {
   "cell_type": "code",
   "execution_count": 5,
   "id": "4dfca80a-dcda-4398-853c-22a809446cbb",
   "metadata": {},
   "outputs": [],
   "source": [
    "def left(token=\"\", url=\"http://127.0.0.1:8801/api/v1\"):\n",
    "    r = requests.post(url + \"/robot-cells/left\", params={\"token\": token})\n",
    "    return r"
   ]
  },
  {
   "cell_type": "code",
   "execution_count": 6,
   "id": "20cdea16-a9bf-4b38-8a89-344bb5e93c2e",
   "metadata": {},
   "outputs": [],
   "source": [
    "def right(token=\"\", url=\"http://127.0.0.1:8801/api/v1\"):\n",
    "    r = requests.post(url + \"/robot-cells/right\", params={\"token\": token})\n",
    "    return r"
   ]
  },
  {
   "cell_type": "code",
   "execution_count": 7,
   "id": "9c382213-7f76-4c1b-984f-9d43d8a0b90b",
   "metadata": {},
   "outputs": [],
   "source": [
    "def backward(token=\"\", url=\"http://127.0.0.1:8801/api/v1\"):\n",
    "    r = requests.post(url + \"/robot-cells/backward\", params={\"token\": token})\n",
    "    return r"
   ]
  },
  {
   "cell_type": "code",
   "execution_count": 8,
   "id": "082aa05b-258d-43bd-89ea-e4c49e46c356",
   "metadata": {},
   "outputs": [],
   "source": [
    "def sensor_data(token=\"\", url=\"http://127.0.0.1:8801/api/v1\"):\n",
    "    r = requests.get(url + \"/robot-cells/sensor-data\", params={\"token\": token})\n",
    "    return r.json()"
   ]
  },
  {
   "cell_type": "code",
   "execution_count": 9,
   "id": "eb95bd69-8a1a-42fc-8ff8-fb7d34320a95",
   "metadata": {},
   "outputs": [],
   "source": [
    "def restart(token=\"\", url=\"http://127.0.0.1:8801/api/v1\"):\n",
    "    r = requests.post(url + \"/robot-cells/restart\", params={\"token\": token})\n",
    "    return r"
   ]
  },
  {
   "cell_type": "code",
   "execution_count": 70,
   "id": "29c490bb-a9f3-4165-8723-7a7a57e8954f",
   "metadata": {},
   "outputs": [],
   "source": [
    "def where_wall(dist: int):\n",
    "    return int(round((dist - 50) / 150))"
   ]
  },
  {
   "cell_type": "code",
   "execution_count": null,
   "id": "3bcf83f1-4965-4298-9b90-b4aba9541c73",
   "metadata": {},
   "outputs": [],
   "source": [
    "def get_walls(data: dict):\n",
    "    f = where_wall(data[\"front_distance\"])\n",
    "    r = where_wall(data[\"right_side_distance\"])\n",
    "    l = where_wall(data[\"left_side_distance\"])\n",
    "    b = where_wall(data[\"back_distance\"])\n",
    "    return f, l,"
   ]
  },
  {
   "cell_type": "code",
   "execution_count": 82,
   "id": "8d86502e-8f38-4251-a5bf-383c5ea33504",
   "metadata": {},
   "outputs": [],
   "source": [
    "data = sensor_data()"
   ]
  },
  {
   "cell_type": "code",
   "execution_count": 83,
   "id": "0bec0cbf-4e2a-4b28-9989-16f888735ac0",
   "metadata": {},
   "outputs": [],
   "source": []
  },
  {
   "cell_type": "code",
   "execution_count": 84,
   "id": "00b0d431-123a-496e-b216-c7bcd84a07fc",
   "metadata": {},
   "outputs": [
    {
     "data": {
      "text/plain": [
       "(215.94, 48.76, 51.09, 216.56)"
      ]
     },
     "execution_count": 84,
     "metadata": {},
     "output_type": "execute_result"
    }
   ],
   "source": [
    "f, r, l, b"
   ]
  },
  {
   "cell_type": "code",
   "execution_count": 85,
   "id": "e9a8eab3-d822-4e98-8eac-5ab720403fd5",
   "metadata": {},
   "outputs": [],
   "source": []
  },
  {
   "cell_type": "code",
   "execution_count": 86,
   "id": "721d09d2-cab3-412c-9ed3-8cbf2c51d615",
   "metadata": {},
   "outputs": [
    {
     "data": {
      "text/plain": [
       "(1, 0, 0, 1)"
      ]
     },
     "execution_count": 86,
     "metadata": {},
     "output_type": "execute_result"
    }
   ],
   "source": [
    "f, r, l, b"
   ]
  },
  {
   "cell_type": "code",
   "execution_count": 81,
   "id": "d225745a-7c7d-42ec-a55a-05cceeea0715",
   "metadata": {},
   "outputs": [
    {
     "data": {
      "text/plain": [
       "<Response [200]>"
      ]
     },
     "execution_count": 81,
     "metadata": {},
     "output_type": "execute_result"
    }
   ],
   "source": [
    "forward()"
   ]
  },
  {
   "cell_type": "code",
   "execution_count": null,
   "id": "57347079-3153-459b-a143-97121fb52f32",
   "metadata": {},
   "outputs": [],
   "source": []
  }
 ],
 "metadata": {
  "kernelspec": {
   "display_name": "Python 3 (ipykernel)",
   "language": "python",
   "name": "python3"
  },
  "language_info": {
   "codemirror_mode": {
    "name": "ipython",
    "version": 3
   },
   "file_extension": ".py",
   "mimetype": "text/x-python",
   "name": "python",
   "nbconvert_exporter": "python",
   "pygments_lexer": "ipython3",
   "version": "3.12.5"
  }
 },
 "nbformat": 4,
 "nbformat_minor": 5
}
