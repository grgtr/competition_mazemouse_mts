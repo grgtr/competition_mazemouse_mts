{
 "cells": [
  {
   "cell_type": "code",
   "execution_count": 3,
   "id": "29fb44b2-d4d1-4082-89e3-337044e33a1c",
   "metadata": {},
   "outputs": [],
   "source": [
    "import requests"
   ]
  },
  {
   "cell_type": "code",
   "execution_count": 110,
   "id": "1f0aa976-bd34-484d-b662-234972739235",
   "metadata": {},
   "outputs": [],
   "source": [
    "class Mouse:\n",
    "    def __init__(self, token=\"\", url=\"http://127.0.0.1:8801/api/v1\"):\n",
    "        self.token = token\n",
    "        self.url = url\n",
    "        size = 16\n",
    "        self.maze = [[0 for _ in range(size)] for _ in range(size)]\n",
    "        self.data: dict\n",
    "\n",
    "    def forward(self):\n",
    "        r = requests.post(self.url + \"/robot-cells/forward\", params={\"token\": self.token})\n",
    "        return r\n",
    "\n",
    "    def left(self):\n",
    "        r = requests.post(self.url + \"/robot-cells/left\", params={\"token\": self.token})\n",
    "        return r\n",
    "\n",
    "    def right(self):\n",
    "        r = requests.post(self.url + \"/robot-cells/right\", params={\"token\": self.token})\n",
    "        return r\n",
    "\n",
    "    def backward(self):\n",
    "        r = requests.post(self.url + \"/robot-cells/backward\", params={\"token\": self.token})\n",
    "        return r\n",
    "\n",
    "    def upd_sensor_data(self):\n",
    "        r = requests.get(self.url + \"/robot-cells/sensor-data\", params={\"token\": self.token})\n",
    "        self.data = r.json()\n",
    "        return r\n",
    "\n",
    "    def restart(self):\n",
    "        r = requests.post(self.url + \"/robot-cells/restart\", params={\"token\": self.token})\n",
    "        return r\n",
    "\n",
    "    @staticmethod\n",
    "    def __dist_to_wall(dist: int):\n",
    "        return int(round((dist - 50) / 166.67))\n",
    "\n",
    "    def get_walls(self):\n",
    "        f = self.__dist_to_wall(self.data[\"front_distance\"])\n",
    "        r = self.__dist_to_wall(self.data[\"right_side_distance\"])\n",
    "        l = self.__dist_to_wall(self.data[\"left_side_distance\"])\n",
    "        b = self.__dist_to_wall(self.data[\"back_distance\"])\n",
    "        return f, r, l, b"
   ]
  },
  {
   "cell_type": "code",
   "execution_count": 111,
   "id": "5434dce4-1755-4691-b088-aef99e653965",
   "metadata": {},
   "outputs": [
    {
     "name": "stdout",
     "output_type": "stream",
     "text": [
      "{\"detail\":\"Not Found\"}\n",
      "{\"Feedback\":true}\n",
      "{\"front_distance\":49.48,\"right_side_distance\":382.14,\"left_side_distance\":59.33,\"back_distance\":49.72,\"left_45_distance\":69.75,\"right_45_distance\":70.75,\"rotation_pitch\":-0.27,\"rotation_yaw\":0.0,\"rotation_roll\":-0.13,\"down_x_offset\":-1245.87,\"down_y_offset\":-1254.1}\n",
      "(0, 2, 0, 0)\n"
     ]
    }
   ],
   "source": [
    "m = Mouse()\n",
    "print(m.forward().text)\n",
    "print(m.upd_sensor_data().text)"
   ]
  },
  {
   "cell_type": "code",
   "execution_count": 96,
   "id": "0efe02d9-181e-4656-97dc-b7bbd5e9e6e5",
   "metadata": {},
   "outputs": [],
   "source": [
    "walls = {\n",
    "    0: (0, 0, 0, 0),\n",
    "    1: (),\n",
    "}"
   ]
  },
  {
   "cell_type": "code",
   "execution_count": null,
   "id": "57347079-3153-459b-a143-97121fb52f32",
   "metadata": {},
   "outputs": [],
   "source": [
    "def dfs(maze, v):\n",
    "    data = sensor_data()\n",
    "    f, r, l, b = get_walls(data)\n",
    "    w = l + \n",
    "    if f"
   ]
  }
 ],
 "metadata": {
  "kernelspec": {
   "display_name": "Python 3 (ipykernel)",
   "language": "python",
   "name": "python3"
  },
  "language_info": {
   "codemirror_mode": {
    "name": "ipython",
    "version": 3
   },
   "file_extension": ".py",
   "mimetype": "text/x-python",
   "name": "python",
   "nbconvert_exporter": "python",
   "pygments_lexer": "ipython3",
   "version": "3.12.5"
  }
 },
 "nbformat": 4,
 "nbformat_minor": 5
}
