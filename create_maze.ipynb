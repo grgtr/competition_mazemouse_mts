{
 "cells": [
  {
   "cell_type": "code",
   "execution_count": 136,
   "id": "bbbcc548",
   "metadata": {},
   "outputs": [],
   "source": [
    "import random\n",
    "import time\n",
    "import matplotlib.pyplot as plt\n",
    "\n",
    "WALLS = {\n",
    "    0: [0, 0, 0, 0],  # Нет стен\n",
    "    1: [0, 0, 0, 1],  # Запад\n",
    "    2: [0, 0, 1, 0],  # Север\n",
    "    3: [0, 1, 0, 0],  # Восток\n",
    "    4: [1, 0, 0, 0],  # Юг\n",
    "    5: [1, 0, 0, 1],  # Юг и Запад\n",
    "    6: [1, 1, 0, 0],  # Юг и Восток\n",
    "    7: [0, 1, 1, 0],  # Север и Восток\n",
    "    8: [0, 0, 1, 1],  # Север и Запад\n",
    "    9: [0, 1, 0, 1],  # Запад и Восток\n",
    "    10: [1, 0, 1, 0], # Юг и Север\n",
    "    11: [1, 1, 1, 0], # Юг, Восток, Север\n",
    "    12: [0, 1, 1, 1], # Запад, Север, Восток\n",
    "    13: [1, 0, 1, 1], # Юг, Запад, Север\n",
    "    14: [1, 1, 0, 1], # Юг, Восток, Запад\n",
    "    15: [1, 1, 1, 1]  # Все стены\n",
    "}\n",
    "\n",
    "# [Юг, Восток, Север, Запад]\n",
    "\n",
    "def create_maze(width, height):\n",
    "    maze = [[15 for _ in range(width)] for _ in range(height)]\n",
    "    start_vertex = (0, 0)\n",
    "    randomized_dfs(maze, start_vertex)\n",
    "    create_central_square(maze, width, height, 2)\n",
    "    add_outer_walls(maze)\n",
    "    return maze\n",
    "\n",
    "def randomized_dfs(maze, vertex):\n",
    "    x, y = vertex\n",
    "    maze[y][x] &= ~(1 << 0)  # Помечаем вершину как посещенную\n",
    "\n",
    "    directions = [(0, -1, 'n'), (0, 1, 's'), (-1, 0, 'w'), (1, 0, 'e')]\n",
    "    random.shuffle(directions)\n",
    "\n",
    "    for dx, dy, direction in directions:\n",
    "        nx, ny = x + dx, y + dy\n",
    "        if 0 <= nx < len(maze[0]) and 0 <= ny < len(maze) and maze[ny][nx] == 15:\n",
    "            next_vertex = (nx, ny)\n",
    "            connect_cells(maze, vertex, next_vertex, direction)\n",
    "            randomized_dfs(maze, next_vertex)\n",
    "\n",
    "def connect_cells(maze, vertex, next_vertex, direction):\n",
    "    x, y = vertex\n",
    "    nx, ny = next_vertex\n",
    "\n",
    "    if direction == 'n':\n",
    "        maze[y][x] &= ~(1 << 1)  # Убираем северную стену\n",
    "        maze[ny][nx] &= ~(1 << 2)  # Убираем южную стену\n",
    "    elif direction == 's':\n",
    "        maze[y][x] &= ~(1 << 2)  # Убираем южную стену\n",
    "        maze[ny][nx] &= ~(1 << 1)  # Убираем северную стену\n",
    "    elif direction == 'w':\n",
    "        maze[y][x] &= ~(1 << 3)  # Убираем западную стену\n",
    "        maze[ny][nx] &= ~(1 << 0)  # Убираем восточную стену\n",
    "    elif direction == 'e':\n",
    "        maze[y][x] &= ~(1 << 0)  # Убираем восточную стену\n",
    "        maze[ny][nx] &= ~(1 << 3)  # Убираем западную стену\n",
    "#     print(x, y)\n",
    "#     print()\n",
    "#     fig = visualize_maze(maze)\n",
    "#     time.sleep(0.1)\n",
    "    \n",
    "\n",
    "def visualize_maze(maze, path=[]):\n",
    "    fig, ax = plt.subplots()\n",
    "    ax.set_xticks(range(len(maze[0]) + 1))\n",
    "    ax.set_yticks(range(len(maze) + 1))\n",
    "    ax.set_xticklabels([])\n",
    "    ax.set_yticklabels([])\n",
    "    ax.grid(True)\n",
    "\n",
    "    for y in range(len(maze)):\n",
    "        for x in range(len(maze[0])):\n",
    "            if maze[y][x] & (1 << 0):  # Восточная стена\n",
    "                ax.plot([x + 1, x + 1], [y, y + 1], 'k-')\n",
    "            if maze[y][x] & (1 << 1):  # Северная стена\n",
    "                ax.plot([x, x + 1], [y, y], 'k-')\n",
    "            if maze[y][x] & (1 << 2):  # Южная стена\n",
    "                ax.plot([x, x + 1], [y + 1, y + 1], 'k-')\n",
    "            if maze[y][x] & (1 << 3):  # Западная стена\n",
    "                ax.plot([x, x], [y, y + 1], 'k-')\n",
    "\n",
    "    if path:\n",
    "        path_x, path_y = zip(*path)\n",
    "        path_x = [x + 0.5 for x in path_x]  # Смещаем координаты x на 0.5 вправо\n",
    "        path_y = [y + 0.5 for y in path_y]  # Смещаем координаты y на 0.5 вниз\n",
    "        ax.plot(path_x, path_y, 'r-', linewidth=2)\n",
    "\n",
    "    plt.gca().set_aspect('equal', adjustable='box')\n",
    "    plt.show()\n",
    "    return fig\n",
    "\n",
    "def create_central_square(maze, width, height, size):\n",
    "    add = 1\n",
    "    if width % 2 == 0 and height % 2 == 0:\n",
    "        add = 0\n",
    "    print(size)\n",
    "    center_x = width // 2\n",
    "    center_y = height // 2\n",
    "\n",
    "    for y in range(center_y - size // 2, center_y + size // 2 + add):\n",
    "        for x in range(center_x - size // 2, center_x + size // 2 + add):\n",
    "            if 0 <= x < width and 0 <= y < height:\n",
    "                maze[y][x] = 0  # Убираем все стены внутри квадрата\n",
    "\n",
    "def add_outer_walls(maze):\n",
    "    width = len(maze[0])\n",
    "    height = len(maze)\n",
    "\n",
    "    for y in range(height):\n",
    "        for x in range(width):\n",
    "            if x == 0:  # Левая граница\n",
    "                maze[y][x] |= (1 << 3)  # Устанавливаем западную стену\n",
    "            if x == width - 1:  # Правая граница\n",
    "                maze[y][x] |= (1 << 0)  # Устанавливаем восточную стену\n",
    "            if y == 0:  # Верхняя граница\n",
    "                maze[y][x] |= (1 << 1)  # Устанавливаем северную стену\n",
    "            if y == height - 1:  # Нижняя граница\n",
    "                maze[y][x] |= (1 << 2)  # Устанавливаем южную стену\n"
   ]
  },
  {
   "cell_type": "code",
   "execution_count": 104,
   "id": "5bb2558c",
   "metadata": {
    "scrolled": false
   },
   "outputs": [
    {
     "name": "stdout",
     "output_type": "stream",
     "text": [
      "2\n"
     ]
    },
    {
     "data": {
      "image/png": "[encoded data removed]",
      "text/plain": [
       "<Figure size 640x480 with 1 Axes>"
      ]
     },
     "metadata": {},
     "output_type": "display_data"
    },
    {
     "data": {
      "image/png": "[encoded data removed]",
      "text/plain": [
       "<Figure size 640x480 with 1 Axes>"
      ]
     },
     "execution_count": 104,
     "metadata": {},
     "output_type": "execute_result"
    }
   ],
   "source": [
    "width, height = 16, 16\n",
    "maze = create_maze(width, height)\n",
    "visualize_maze(maze)\n",
    "    \n",
    "# width, height = 10, 10\n",
    "# maze = create_maze(width, height)\n",
    "# print_maze(maze)\n"
   ]
  },
  {
   "cell_type": "code",
   "execution_count": 127,
   "id": "c2c7ef72",
   "metadata": {
    "scrolled": true
   },
   "outputs": [
    {
     "name": "stdout",
     "output_type": "stream",
     "text": [
      "2\n"
     ]
    },
    {
     "data": {
      "image/png": "[encoded data removed]",
      "text/plain": [
       "<Figure size 640x480 with 1 Axes>"
      ]
     },
     "metadata": {},
     "output_type": "display_data"
    },
    {
     "data": {
      "image/png": "[encoded data removed]",
      "text/plain": [
       "<Figure size 640x480 with 1 Axes>"
      ]
     },
     "execution_count": 127,
     "metadata": {},
     "output_type": "execute_result"
    }
   ],
   "source": [
    "width, height = 10, 10\n",
    "maze = create_maze(width, height)\n",
    "visualize_maze(maze)"
   ]
  },
  {
   "cell_type": "code",
   "execution_count": 171,
   "id": "d31a3826",
   "metadata": {},
   "outputs": [
    {
     "data": {
      "text/plain": [
       "[[14, 2, 14, 2, 10, 6, 6, 6, 6, 3],\n",
       " [10, 4, 10, 4, 12, 6, 2, 10, 6, 5],\n",
       " [12, 2, 8, 6, 2, 6, 8, 12, 6, 3],\n",
       " [10, 4, 8, 10, 12, 6, 4, 10, 10, 1],\n",
       " [8, 10, 4, 4, 0, 0, 6, 4, 8, 9],\n",
       " [8, 12, 10, 6, 0, 0, 6, 6, 4, 9],\n",
       " [8, 10, 4, 14, 6, 2, 6, 2, 10, 9],\n",
       " [12, 4, 10, 6, 6, 4, 10, 4, 4, 9],\n",
       " [10, 2, 4, 10, 6, 2, 12, 10, 2, 9],\n",
       " [12, 12, 6, 4, 6, 12, 6, 4, 12, 5]]"
      ]
     },
     "execution_count": 171,
     "metadata": {},
     "output_type": "execute_result"
    }
   ],
   "source": [
    "maze"
   ]
  },
  {
   "cell_type": "code",
   "execution_count": 172,
   "id": "d2ab9bd6",
   "metadata": {},
   "outputs": [
    {
     "data": {
      "text/plain": [
       "(14, 10)"
      ]
     },
     "execution_count": 172,
     "metadata": {},
     "output_type": "execute_result"
    }
   ],
   "source": [
    "maze[0][0], maze[1][0]"
   ]
  },
  {
   "cell_type": "code",
   "execution_count": null,
   "id": "5bbb1739",
   "metadata": {},
   "outputs": [],
   "source": [
    "def print_maze(maze):\n",
    "    for row in maze:\n",
    "        print(' '.join(WALLS[cell] for cell in row))\n",
    "    print()"
   ]
  },
  {
   "cell_type": "code",
   "execution_count": 167,
   "id": "649fe702",
   "metadata": {},
   "outputs": [],
   "source": [
    "# [Юг, Восток, Север, Запад]\n",
    "\n",
    "def move_up(maze, x, y):\n",
    "    if y > 0 and WALLS[maze[y][x]][2]:\n",
    "        return (x, y + 1)\n",
    "    return (x, y)\n",
    "\n",
    "def move_down(maze, x, y):\n",
    "    if y < len(maze) - 1 and WALLS[maze[y][x]][0]:\n",
    "        return (x, y - 1)\n",
    "    return (x, y)\n",
    "\n",
    "def move_left(maze, x, y):\n",
    "    if x > 0 and WALLS[maze[y][x]][3]:\n",
    "        return (x - 1, y)\n",
    "    return (x, y)\n",
    "\n",
    "def move_right(maze, x, y):\n",
    "    if x < len(maze[0]) - 1 and WALLS[maze[y][x]][1]:\n",
    "        return (x + 1, y)\n",
    "    return (x, y)\n"
   ]
  },
  {
   "cell_type": "code",
   "execution_count": 158,
   "id": "b0ecf569",
   "metadata": {},
   "outputs": [],
   "source": [
    "def create_path(maze, start, end):\n",
    "    path = [start]\n",
    "    x, y = start\n",
    "    step = 0\n",
    "    while (x, y) != end and step != 100:\n",
    "        step += 1\n",
    "        nx, ny = move_right(maze, x, y)\n",
    "        if (nx, ny) == (x, y):\n",
    "            nx, ny = move_left(maze, x, y)\n",
    "        elif (nx, ny) == (x, y):\n",
    "            nx, ny = move_down(maze, x, y)\n",
    "        elif (nx, ny) == (x, y):\n",
    "            nx, ny = move_up(maze, x, y)\n",
    "        path.append((nx, ny))\n",
    "        x, y = nx, ny\n",
    "        #print(step, end=' ')\n",
    "\n",
    "    return path"
   ]
  },
  {
   "cell_type": "code",
   "execution_count": 170,
   "id": "1da277d8",
   "metadata": {
    "scrolled": true
   },
   "outputs": [
    {
     "name": "stdout",
     "output_type": "stream",
     "text": [
      "(5, 5)\n",
      "[1, 1, 0, 1] (0, 0)\n",
      "[0, 0, 1, 0]\n",
      "[0, 0, 1, 0] (1, 0)\n",
      "[0, 0, 1, 0] (1, 0)\n",
      "[0, 0, 1, 0] (1, 0)\n",
      "[0, 0, 1, 0] (1, 0)\n",
      "[0, 0, 1, 0] (1, 0)\n",
      "[0, 0, 1, 0] (1, 0)\n",
      "[0, 0, 1, 0] (1, 0)\n",
      "[(0, 0), (1, 0), (1, 0), (1, 0), (1, 0), (1, 0), (1, 0), (1, 0), (1, 0)]\n"
     ]
    },
    {
     "data": {
      "image/png": "[encoded data removed]",
      "text/plain": [
       "<Figure size 640x480 with 1 Axes>"
      ]
     },
     "metadata": {},
     "output_type": "display_data"
    }
   ],
   "source": [
    "start = (0, height - 1)\n",
    "end = (width // 2, height // 2)\n",
    "print(end)\n",
    "# path = create_path(maze, start, end)\n",
    "path = [start]\n",
    "x, y = start\n",
    "print(WALLS[maze[y][x]], (x, y))\n",
    "x, y = move_right(maze, x, y)\n",
    "path.append((x, y))\n",
    "print(WALLS[maze[y][x]])\n",
    "x, y = move_up(maze, x, y)\n",
    "path.append((x, y))\n",
    "print(WALLS[maze[y][x]], (x, y))\n",
    "x, y = move_left(maze, x, y)\n",
    "path.append((x, y))\n",
    "print(WALLS[maze[y][x]], (x, y))\n",
    "x, y = move_up(maze, x, y)\n",
    "path.append((x, y))\n",
    "print(WALLS[maze[y][x]], (x, y))\n",
    "x, y = move_right(maze, x, y)\n",
    "path.append((x, y))\n",
    "print(WALLS[maze[y][x]], (x, y))\n",
    "x, y = move_up(maze, x, y)\n",
    "path.append((x, y))\n",
    "print(WALLS[maze[y][x]], (x, y))\n",
    "x, y = move_left(maze, x, y)\n",
    "path.append((x, y))\n",
    "print(WALLS[maze[y][x]], (x, y))\n",
    "x, y = move_up(maze, x, y)\n",
    "path.append((x, y))\n",
    "print(WALLS[maze[y][x]], (x, y))\n",
    "print(path)\n",
    "visualize_maze(maze, path)\n",
    "plt.show()"
   ]
  },
  {
   "cell_type": "code",
   "execution_count": null,
   "id": "4fa384c0",
   "metadata": {},
   "outputs": [],
   "source": []
  }
 ],
 "metadata": {
  "kernelspec": {
   "display_name": "Python 3 (ipykernel)",
   "language": "python",
   "name": "python3"
  },
  "language_info": {
   "codemirror_mode": {
    "name": "ipython",
    "version": 3
   },
   "file_extension": ".py",
   "mimetype": "text/x-python",
   "name": "python",
   "nbconvert_exporter": "python",
   "pygments_lexer": "ipython3",
   "version": "3.11.4"
  }
 },
 "nbformat": 4,
 "nbformat_minor": 5
}
